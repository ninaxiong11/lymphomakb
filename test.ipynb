{
 "cells": [
  {
   "cell_type": "markdown",
   "metadata": {},
   "source": [
    "### ClinVar variant summary"
   ]
  },
  {
   "cell_type": "code",
   "execution_count": 1,
   "metadata": {},
   "outputs": [
    {
     "name": "stderr",
     "output_type": "stream",
     "text": [
      "/var/folders/gn/1dwlg7ns6s3d_22hhl8kmrwm0000gn/T/ipykernel_9910/1986549347.py:2: DtypeWarning: Columns (18) have mixed types. Specify dtype option on import or set low_memory=False.\n",
      "  df = pd.read_csv(\"/Users/ninaxiong/projects/orientdb/clinvar/variant_summary.txt\", sep=\"\\t\")\n"
     ]
    }
   ],
   "source": [
    "import pandas as pd\n",
    "df = pd.read_csv(\"/Users/ninaxiong/projects/orientdb/clinvar/variant_summary.txt\", sep=\"\\t\")"
   ]
  },
  {
   "cell_type": "code",
   "execution_count": 2,
   "metadata": {},
   "outputs": [],
   "source": [
    "# df.columns"
   ]
  },
  {
   "cell_type": "code",
   "execution_count": 3,
   "metadata": {},
   "outputs": [],
   "source": [
    "# columns = [\"Type\", \"Name\", \"GeneSymbol\", \"ClinicalSignificance\", \"PhenotypeList\", \"Chromosome\", \"Start\", \"Stop\"]\n",
    "# df.loc[:5, columns]"
   ]
  },
  {
   "cell_type": "code",
   "execution_count": 4,
   "metadata": {},
   "outputs": [
    {
     "data": {
      "text/plain": [
       "array(['Indel', 'Deletion', 'single nucleotide variant', 'Duplication',\n",
       "       'Microsatellite', 'Insertion', 'Variation', 'Translocation',\n",
       "       'protein only', 'Inversion', 'copy number gain', 'fusion',\n",
       "       'copy number loss', 'Complex', 'Tandem duplication'], dtype=object)"
      ]
     },
     "execution_count": 4,
     "metadata": {},
     "output_type": "execute_result"
    }
   ],
   "source": [
    "df[\"Type\"].unique()"
   ]
  },
  {
   "cell_type": "code",
   "execution_count": 29,
   "metadata": {},
   "outputs": [
    {
     "data": {
      "text/html": [
       "<div>\n",
       "<style scoped>\n",
       "    .dataframe tbody tr th:only-of-type {\n",
       "        vertical-align: middle;\n",
       "    }\n",
       "\n",
       "    .dataframe tbody tr th {\n",
       "        vertical-align: top;\n",
       "    }\n",
       "\n",
       "    .dataframe thead th {\n",
       "        text-align: right;\n",
       "    }\n",
       "</style>\n",
       "<table border=\"1\" class=\"dataframe\">\n",
       "  <thead>\n",
       "    <tr style=\"text-align: right;\">\n",
       "      <th></th>\n",
       "      <th>#AlleleID</th>\n",
       "      <th>Type</th>\n",
       "      <th>Name</th>\n",
       "      <th>GeneID</th>\n",
       "      <th>GeneSymbol</th>\n",
       "      <th>HGNC_ID</th>\n",
       "      <th>ClinicalSignificance</th>\n",
       "      <th>ClinSigSimple</th>\n",
       "      <th>LastEvaluated</th>\n",
       "      <th>RS# (dbSNP)</th>\n",
       "      <th>...</th>\n",
       "      <th>ReviewStatus</th>\n",
       "      <th>NumberSubmitters</th>\n",
       "      <th>Guidelines</th>\n",
       "      <th>TestedInGTR</th>\n",
       "      <th>OtherIDs</th>\n",
       "      <th>SubmitterCategories</th>\n",
       "      <th>VariationID</th>\n",
       "      <th>PositionVCF</th>\n",
       "      <th>ReferenceAlleleVCF</th>\n",
       "      <th>AlternateAlleleVCF</th>\n",
       "    </tr>\n",
       "  </thead>\n",
       "  <tbody>\n",
       "    <tr>\n",
       "      <th>1075204</th>\n",
       "      <td>676954</td>\n",
       "      <td>Tandem duplication</td>\n",
       "      <td>Single allele</td>\n",
       "      <td>7248</td>\n",
       "      <td>TSC1</td>\n",
       "      <td>HGNC:12362</td>\n",
       "      <td>Uncertain significance</td>\n",
       "      <td>0</td>\n",
       "      <td>Jan 26, 2018</td>\n",
       "      <td>-1</td>\n",
       "      <td>...</td>\n",
       "      <td>criteria provided, single submitter</td>\n",
       "      <td>1</td>\n",
       "      <td>ACMG2013,ACMG2016</td>\n",
       "      <td>N</td>\n",
       "      <td>-</td>\n",
       "      <td>2</td>\n",
       "      <td>689362</td>\n",
       "      <td>-1</td>\n",
       "      <td>na</td>\n",
       "      <td>na</td>\n",
       "    </tr>\n",
       "  </tbody>\n",
       "</table>\n",
       "<p>1 rows × 34 columns</p>\n",
       "</div>"
      ],
      "text/plain": [
       "         #AlleleID                Type           Name  GeneID GeneSymbol  \\\n",
       "1075204     676954  Tandem duplication  Single allele    7248       TSC1   \n",
       "\n",
       "            HGNC_ID    ClinicalSignificance  ClinSigSimple LastEvaluated  \\\n",
       "1075204  HGNC:12362  Uncertain significance              0  Jan 26, 2018   \n",
       "\n",
       "         RS# (dbSNP)  ...                         ReviewStatus  \\\n",
       "1075204           -1  ...  criteria provided, single submitter   \n",
       "\n",
       "        NumberSubmitters         Guidelines TestedInGTR OtherIDs  \\\n",
       "1075204                1  ACMG2013,ACMG2016           N        -   \n",
       "\n",
       "        SubmitterCategories VariationID PositionVCF ReferenceAlleleVCF  \\\n",
       "1075204                   2      689362          -1                 na   \n",
       "\n",
       "         AlternateAlleleVCF  \n",
       "1075204                  na  \n",
       "\n",
       "[1 rows x 34 columns]"
      ]
     },
     "execution_count": 29,
     "metadata": {},
     "output_type": "execute_result"
    }
   ],
   "source": [
    "df[df[\"Type\"] == \"Tandem duplication\"].head(10)"
   ]
  },
  {
   "cell_type": "code",
   "execution_count": 23,
   "metadata": {},
   "outputs": [],
   "source": [
    "# for x in df[df[\"Type\"] == \"Insertion\"][\"Name\"]:\n",
    "#     print(x)"
   ]
  },
  {
   "cell_type": "code",
   "execution_count": 8,
   "metadata": {},
   "outputs": [],
   "source": [
    "# for x in df[\"ClinicalSignificance\"].unique():\n",
    "#     print(x)"
   ]
  }
 ],
 "metadata": {
  "interpreter": {
   "hash": "243639d3113cbe381352a32fe5a4e1a317b20dd77d7d45bde22354ae8ddc7d11"
  },
  "kernelspec": {
   "display_name": "Python 3.9.7 ('base')",
   "language": "python",
   "name": "python3"
  },
  "language_info": {
   "codemirror_mode": {
    "name": "ipython",
    "version": 3
   },
   "file_extension": ".py",
   "mimetype": "text/x-python",
   "name": "python",
   "nbconvert_exporter": "python",
   "pygments_lexer": "ipython3",
   "version": "3.9.7"
  },
  "orig_nbformat": 4
 },
 "nbformat": 4,
 "nbformat_minor": 2
}
